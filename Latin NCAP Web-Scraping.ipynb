{
 "cells": [
  {
   "cell_type": "code",
   "execution_count": 2,
   "id": "945cd8fb",
   "metadata": {},
   "outputs": [],
   "source": [
    "!pip install requests --upgrade --quiet\n",
    "import requests"
   ]
  },
  {
   "cell_type": "code",
   "execution_count": 3,
   "id": "f81bbff0",
   "metadata": {},
   "outputs": [],
   "source": [
    "NCAP_url = 'https://www.latinncap.com/en/results'"
   ]
  },
  {
   "cell_type": "code",
   "execution_count": 4,
   "id": "e1d54f53",
   "metadata": {},
   "outputs": [],
   "source": [
    "response = requests.get('https://www.latinncap.com/en/results')"
   ]
  },
  {
   "cell_type": "code",
   "execution_count": 5,
   "id": "d5518974",
   "metadata": {},
   "outputs": [
    {
     "data": {
      "text/plain": [
       "200"
      ]
     },
     "execution_count": 5,
     "metadata": {},
     "output_type": "execute_result"
    }
   ],
   "source": [
    "response.status_code"
   ]
  },
  {
   "cell_type": "code",
   "execution_count": 6,
   "id": "33cf9bb5",
   "metadata": {},
   "outputs": [],
   "source": [
    "page_contents = response.text"
   ]
  },
  {
   "cell_type": "code",
   "execution_count": 7,
   "id": "2f2de14d",
   "metadata": {},
   "outputs": [],
   "source": [
    "with open('webpage.html','w') as f:\n",
    "    f.write(page_contents)"
   ]
  },
  {
   "cell_type": "code",
   "execution_count": 8,
   "id": "91633c3b",
   "metadata": {},
   "outputs": [],
   "source": [
    "!pip install beautifulsoup4 --upgrade --quiet"
   ]
  },
  {
   "cell_type": "code",
   "execution_count": 9,
   "id": "52df4ba0",
   "metadata": {},
   "outputs": [],
   "source": [
    "from bs4 import BeautifulSoup"
   ]
  },
  {
   "cell_type": "code",
   "execution_count": 10,
   "id": "e3bfc93e",
   "metadata": {},
   "outputs": [],
   "source": [
    "doc = BeautifulSoup(page_contents, 'html.parser')"
   ]
  },
  {
   "cell_type": "markdown",
   "id": "362c4961",
   "metadata": {},
   "source": [
    "Data Format - \n",
    "Brand, Model, Date,stars,Protection of Adult Occupant,Protection of Child Occupant,Protection of Pedestrian and vulnerable users, Safety Assit systems"
   ]
  },
  {
   "cell_type": "code",
   "execution_count": 11,
   "id": "201169ad",
   "metadata": {},
   "outputs": [],
   "source": [
    "selection_class = \"tit-marca\"\n",
    "brand_tags = doc.find_all('span',{'class': selection_class})"
   ]
  },
  {
   "cell_type": "code",
   "execution_count": 12,
   "id": "ebbab1c5",
   "metadata": {},
   "outputs": [
    {
     "data": {
      "text/plain": [
       "44"
      ]
     },
     "execution_count": 12,
     "metadata": {},
     "output_type": "execute_result"
    }
   ],
   "source": [
    "len(brand_tags)"
   ]
  },
  {
   "cell_type": "code",
   "execution_count": 13,
   "id": "2c07169b",
   "metadata": {},
   "outputs": [
    {
     "data": {
      "text/plain": [
       "[<span class=\"tit-marca\">Fiat</span>,\n",
       " <span class=\"tit-marca\">Ford</span>,\n",
       " <span class=\"tit-marca\">Great Wall Motors</span>,\n",
       " <span class=\"tit-marca\">Hyundai</span>,\n",
       " <span class=\"tit-marca\">Kia</span>]"
      ]
     },
     "execution_count": 13,
     "metadata": {},
     "output_type": "execute_result"
    }
   ],
   "source": [
    "brand_tags[:5]"
   ]
  },
  {
   "cell_type": "code",
   "execution_count": 14,
   "id": "b6c52347",
   "metadata": {},
   "outputs": [
    {
     "data": {
      "text/plain": [
       "44"
      ]
     },
     "execution_count": 14,
     "metadata": {},
     "output_type": "execute_result"
    }
   ],
   "source": [
    "brand_titles = []\n",
    "\n",
    "for tag in brand_tags:\n",
    "    brand_titles.append(tag.text)\n",
    "len(brand_titles)"
   ]
  },
  {
   "cell_type": "code",
   "execution_count": 15,
   "id": "d136e140",
   "metadata": {},
   "outputs": [],
   "source": [
    "model_tags = doc.find_all('h3',class_ = False,id = False)"
   ]
  },
  {
   "cell_type": "code",
   "execution_count": 16,
   "id": "0c460b4d",
   "metadata": {},
   "outputs": [
    {
     "data": {
      "text/plain": [
       "148"
      ]
     },
     "execution_count": 16,
     "metadata": {},
     "output_type": "execute_result"
    }
   ],
   "source": [
    "len(model_tags)"
   ]
  },
  {
   "cell_type": "code",
   "execution_count": 17,
   "id": "a1d5d593",
   "metadata": {},
   "outputs": [
    {
     "data": {
      "text/plain": [
       "[<h3>Fiat Argo / Cronos + 2 Airbags</h3>,\n",
       " <h3>Ford Ka + 2 Airbags</h3>,\n",
       " <h3>Great Wall Motors Wingle 5 + 2 Airbags</h3>,\n",
       " <h3>Hyundai Accent + 1 Airbag</h3>,\n",
       " <h3>Hyundai Tucson + 2 Airbags</h3>,\n",
       " <h3>Hyundai HB20 + 2 Airbags</h3>,\n",
       " <h3>Kia Sportage + 2 Airbags</h3>,\n",
       " <h3>Kia Picanto / Morning + 1 Airbag</h3>,\n",
       " <h3>Peugeot 208 + 4 Airbags</h3>,\n",
       " <h3>Renault Duster + 2 Airbags</h3>,\n",
       " <h3>Suzuki Baleno + 2 Airbags</h3>,\n",
       " <h3>Suzuki Swift + 2 Airbags</h3>,\n",
       " <h3>Toyota Yaris + 2 Airbags</h3>,\n",
       " <h3>Volkswagen Taos + 6 Airbags</h3>,\n",
       " <h3>BYD F0 - NO Airbags</h3>]"
      ]
     },
     "execution_count": 17,
     "metadata": {},
     "output_type": "execute_result"
    }
   ],
   "source": [
    "model_tags[:15]"
   ]
  },
  {
   "cell_type": "code",
   "execution_count": 18,
   "id": "9938db44",
   "metadata": {},
   "outputs": [
    {
     "data": {
      "text/plain": [
       "148"
      ]
     },
     "execution_count": 18,
     "metadata": {},
     "output_type": "execute_result"
    }
   ],
   "source": [
    "model_titles = []\n",
    "\n",
    "for tag in model_tags:\n",
    "    model_titles.append(tag.text)\n",
    "len(model_titles)"
   ]
  },
  {
   "cell_type": "code",
   "execution_count": 19,
   "id": "15b2dd60",
   "metadata": {},
   "outputs": [],
   "source": [
    "date_class = \"colum colum-fecha\"\n",
    "date_tags = doc.find_all('div',{'class': date_class})"
   ]
  },
  {
   "cell_type": "code",
   "execution_count": 20,
   "id": "1ff46dd4",
   "metadata": {},
   "outputs": [
    {
     "data": {
      "text/plain": [
       "[<div class=\"colum colum-fecha\">\n",
       " \t        December-2021\t        </div>,\n",
       " <div class=\"colum colum-fecha\">\n",
       " \t        December-2020\t        </div>,\n",
       " <div class=\"colum colum-fecha\">\n",
       " \t        December-2021\t        </div>,\n",
       " <div class=\"colum colum-fecha\">\n",
       " \t        December-2021\t        </div>,\n",
       " <div class=\"colum colum-fecha\">\n",
       " \t        December-2021\t        </div>]"
      ]
     },
     "execution_count": 20,
     "metadata": {},
     "output_type": "execute_result"
    }
   ],
   "source": [
    "date_tags[:5]"
   ]
  },
  {
   "cell_type": "code",
   "execution_count": 21,
   "id": "2c9c491f",
   "metadata": {},
   "outputs": [
    {
     "data": {
      "text/plain": [
       "79"
      ]
     },
     "execution_count": 21,
     "metadata": {},
     "output_type": "execute_result"
    }
   ],
   "source": [
    "date_titles = []\n",
    "\n",
    "for tag in date_tags:\n",
    "    date_titles.append(tag.text)\n",
    "len(date_titles)"
   ]
  },
  {
   "cell_type": "code",
   "execution_count": 22,
   "id": "00093361",
   "metadata": {},
   "outputs": [
    {
     "data": {
      "text/plain": [
       "'        December-2021\\t        '"
      ]
     },
     "execution_count": 22,
     "metadata": {},
     "output_type": "execute_result"
    }
   ],
   "source": [
    "char = '\\n\\t'\n",
    "result = [ele.replace(char, '') for ele in date_titles]\n",
    "result[0]"
   ]
  },
  {
   "cell_type": "code",
   "execution_count": 23,
   "id": "e9afa806",
   "metadata": {},
   "outputs": [
    {
     "data": {
      "text/plain": [
       "'        December-2021        '"
      ]
     },
     "execution_count": 23,
     "metadata": {},
     "output_type": "execute_result"
    }
   ],
   "source": [
    "char = '\\t'\n",
    "res = [ele.replace(char, '') for ele in result]\n",
    "res[0]"
   ]
  },
  {
   "cell_type": "code",
   "execution_count": 24,
   "id": "a35408cc",
   "metadata": {},
   "outputs": [],
   "source": [
    "adult_class = \"porcentaje adulto\"\n",
    "adult_tags = doc.find_all('div',{'class': adult_class})"
   ]
  },
  {
   "cell_type": "code",
   "execution_count": 25,
   "id": "4c6381a7",
   "metadata": {},
   "outputs": [
    {
     "data": {
      "text/plain": [
       "[<div class=\"porcentaje adulto\">24%</div>,\n",
       " <div class=\"porcentaje adulto\">34%</div>,\n",
       " <div class=\"porcentaje adulto\">9%</div>,\n",
       " <div class=\"porcentaje adulto\">9%</div>,\n",
       " <div class=\"porcentaje adulto\">51%</div>]"
      ]
     },
     "execution_count": 25,
     "metadata": {},
     "output_type": "execute_result"
    }
   ],
   "source": [
    "adult_tags[:5]"
   ]
  },
  {
   "cell_type": "code",
   "execution_count": 26,
   "id": "8c92bca8",
   "metadata": {},
   "outputs": [
    {
     "data": {
      "text/plain": [
       "14"
      ]
     },
     "execution_count": 26,
     "metadata": {},
     "output_type": "execute_result"
    }
   ],
   "source": [
    "adult_titles = []\n",
    "\n",
    "for tag in adult_tags:\n",
    "    adult_titles.append(tag.text)\n",
    "len(adult_titles)"
   ]
  },
  {
   "cell_type": "code",
   "execution_count": 27,
   "id": "ea96d82b",
   "metadata": {},
   "outputs": [],
   "source": [
    "child_class = \"porcentaje nino\"\n",
    "child_tags = doc.find_all('div',{'class': child_class})"
   ]
  },
  {
   "cell_type": "code",
   "execution_count": 28,
   "id": "f713ff48",
   "metadata": {},
   "outputs": [
    {
     "data": {
      "text/plain": [
       "[<div class=\"porcentaje nino\">10%</div>,\n",
       " <div class=\"porcentaje nino\">9%</div>,\n",
       " <div class=\"porcentaje nino\">0%</div>,\n",
       " <div class=\"porcentaje nino\">13%</div>,\n",
       " <div class=\"porcentaje nino\">4%</div>]"
      ]
     },
     "execution_count": 28,
     "metadata": {},
     "output_type": "execute_result"
    }
   ],
   "source": [
    "child_tags[:5]"
   ]
  },
  {
   "cell_type": "code",
   "execution_count": 29,
   "id": "f37a1af2",
   "metadata": {},
   "outputs": [
    {
     "data": {
      "text/plain": [
       "14"
      ]
     },
     "execution_count": 29,
     "metadata": {},
     "output_type": "execute_result"
    }
   ],
   "source": [
    "child_titles = []\n",
    "\n",
    "for tag in child_tags:\n",
    "    child_titles.append(tag.text)\n",
    "len(child_titles)"
   ]
  },
  {
   "cell_type": "code",
   "execution_count": 30,
   "id": "e0daf53f",
   "metadata": {},
   "outputs": [],
   "source": [
    "pedestrian_class = \"porcentaje usuarios\"\n",
    "pedestrian_tags = doc.find_all('div',{'class': pedestrian_class})"
   ]
  },
  {
   "cell_type": "code",
   "execution_count": 31,
   "id": "5b2f1861",
   "metadata": {},
   "outputs": [
    {
     "data": {
      "text/plain": [
       "[<div class=\"porcentaje usuarios\">37%</div>,\n",
       " <div class=\"porcentaje usuarios\">50%</div>,\n",
       " <div class=\"porcentaje usuarios\">19%</div>,\n",
       " <div class=\"porcentaje usuarios\">53%</div>,\n",
       " <div class=\"porcentaje usuarios\">50%</div>]"
      ]
     },
     "execution_count": 31,
     "metadata": {},
     "output_type": "execute_result"
    }
   ],
   "source": [
    "pedestrian_tags[:5]"
   ]
  },
  {
   "cell_type": "code",
   "execution_count": 32,
   "id": "621a037d",
   "metadata": {},
   "outputs": [
    {
     "data": {
      "text/plain": [
       "14"
      ]
     },
     "execution_count": 32,
     "metadata": {},
     "output_type": "execute_result"
    }
   ],
   "source": [
    "pedestrian_titles = []\n",
    "\n",
    "for tag in pedestrian_tags:\n",
    "    pedestrian_titles.append(tag.text)\n",
    "len(pedestrian_titles)"
   ]
  },
  {
   "cell_type": "code",
   "execution_count": 33,
   "id": "74495f59",
   "metadata": {},
   "outputs": [],
   "source": [
    "safety_class = \"porcentaje asistentes\"\n",
    "safety_tags = doc.find_all('div',{'class': safety_class})"
   ]
  },
  {
   "cell_type": "code",
   "execution_count": 34,
   "id": "57331ece",
   "metadata": {},
   "outputs": [
    {
     "data": {
      "text/plain": [
       "[<div class=\"porcentaje asistentes\">7%</div>,\n",
       " <div class=\"porcentaje asistentes\">7%</div>,\n",
       " <div class=\"porcentaje asistentes\">0%</div>,\n",
       " <div class=\"porcentaje asistentes\">7%</div>,\n",
       " <div class=\"porcentaje asistentes\">7%</div>]"
      ]
     },
     "execution_count": 34,
     "metadata": {},
     "output_type": "execute_result"
    }
   ],
   "source": [
    "safety_tags[:5]"
   ]
  },
  {
   "cell_type": "code",
   "execution_count": 35,
   "id": "80747561",
   "metadata": {},
   "outputs": [
    {
     "data": {
      "text/plain": [
       "14"
      ]
     },
     "execution_count": 35,
     "metadata": {},
     "output_type": "execute_result"
    }
   ],
   "source": [
    "safety_titles = []\n",
    "\n",
    "for tag in safety_tags:\n",
    "    safety_titles.append(tag.text)\n",
    "len(safety_titles)"
   ]
  },
  {
   "cell_type": "code",
   "execution_count": 36,
   "id": "8efbdcb5",
   "metadata": {},
   "outputs": [],
   "source": [
    "!pip install pandas --quiet"
   ]
  },
  {
   "cell_type": "code",
   "execution_count": 37,
   "id": "8eb5083e",
   "metadata": {},
   "outputs": [],
   "source": [
    "import pandas as pd"
   ]
  },
  {
   "cell_type": "code",
   "execution_count": 38,
   "id": "e5f8c5ce",
   "metadata": {},
   "outputs": [],
   "source": [
    "ncap_dict = {\n",
    "    \n",
    "    'Model': model_titles[:14],\n",
    "    'Date': res[:14],\n",
    "    'Adult': adult_titles,\n",
    "    'Child': child_titles,\n",
    "    'Pedestrian':pedestrian_titles,\n",
    "    'Safety': safety_titles}\n",
    "    "
   ]
  },
  {
   "cell_type": "code",
   "execution_count": 39,
   "id": "37dcdc1e",
   "metadata": {},
   "outputs": [
    {
     "data": {
      "text/html": [
       "<div>\n",
       "<style scoped>\n",
       "    .dataframe tbody tr th:only-of-type {\n",
       "        vertical-align: middle;\n",
       "    }\n",
       "\n",
       "    .dataframe tbody tr th {\n",
       "        vertical-align: top;\n",
       "    }\n",
       "\n",
       "    .dataframe thead th {\n",
       "        text-align: right;\n",
       "    }\n",
       "</style>\n",
       "<table border=\"1\" class=\"dataframe\">\n",
       "  <thead>\n",
       "    <tr style=\"text-align: right;\">\n",
       "      <th></th>\n",
       "      <th>Model</th>\n",
       "      <th>Date</th>\n",
       "      <th>Adult</th>\n",
       "      <th>Child</th>\n",
       "      <th>Pedestrian</th>\n",
       "      <th>Safety</th>\n",
       "    </tr>\n",
       "  </thead>\n",
       "  <tbody>\n",
       "    <tr>\n",
       "      <th>0</th>\n",
       "      <td>Fiat Argo / Cronos + 2 Airbags</td>\n",
       "      <td>December-2021</td>\n",
       "      <td>24%</td>\n",
       "      <td>10%</td>\n",
       "      <td>37%</td>\n",
       "      <td>7%</td>\n",
       "    </tr>\n",
       "    <tr>\n",
       "      <th>1</th>\n",
       "      <td>Ford Ka + 2 Airbags</td>\n",
       "      <td>December-2020</td>\n",
       "      <td>34%</td>\n",
       "      <td>9%</td>\n",
       "      <td>50%</td>\n",
       "      <td>7%</td>\n",
       "    </tr>\n",
       "    <tr>\n",
       "      <th>2</th>\n",
       "      <td>Great Wall Motors Wingle 5 + 2 Airbags</td>\n",
       "      <td>December-2021</td>\n",
       "      <td>9%</td>\n",
       "      <td>0%</td>\n",
       "      <td>19%</td>\n",
       "      <td>0%</td>\n",
       "    </tr>\n",
       "    <tr>\n",
       "      <th>3</th>\n",
       "      <td>Hyundai Accent + 1 Airbag</td>\n",
       "      <td>December-2021</td>\n",
       "      <td>9%</td>\n",
       "      <td>13%</td>\n",
       "      <td>53%</td>\n",
       "      <td>7%</td>\n",
       "    </tr>\n",
       "    <tr>\n",
       "      <th>4</th>\n",
       "      <td>Hyundai Tucson + 2 Airbags</td>\n",
       "      <td>December-2021</td>\n",
       "      <td>51%</td>\n",
       "      <td>4%</td>\n",
       "      <td>50%</td>\n",
       "      <td>7%</td>\n",
       "    </tr>\n",
       "    <tr>\n",
       "      <th>5</th>\n",
       "      <td>Hyundai HB20 + 2 Airbags</td>\n",
       "      <td>December-2020</td>\n",
       "      <td>19%</td>\n",
       "      <td>10%</td>\n",
       "      <td>43%</td>\n",
       "      <td>14%</td>\n",
       "    </tr>\n",
       "    <tr>\n",
       "      <th>6</th>\n",
       "      <td>Kia Sportage + 2 Airbags</td>\n",
       "      <td>December-2021</td>\n",
       "      <td>48%</td>\n",
       "      <td>15%</td>\n",
       "      <td>58%</td>\n",
       "      <td>7%</td>\n",
       "    </tr>\n",
       "    <tr>\n",
       "      <th>7</th>\n",
       "      <td>Kia Picanto / Morning + 1 Airbag</td>\n",
       "      <td>October-2020</td>\n",
       "      <td>0%</td>\n",
       "      <td>29%</td>\n",
       "      <td>51%</td>\n",
       "      <td>7%</td>\n",
       "    </tr>\n",
       "    <tr>\n",
       "      <th>8</th>\n",
       "      <td>Peugeot 208 + 4 Airbags</td>\n",
       "      <td>December-2021</td>\n",
       "      <td>52%</td>\n",
       "      <td>55%</td>\n",
       "      <td>54%</td>\n",
       "      <td>56%</td>\n",
       "    </tr>\n",
       "    <tr>\n",
       "      <th>9</th>\n",
       "      <td>Renault Duster + 2 Airbags</td>\n",
       "      <td>August-2021</td>\n",
       "      <td>29%</td>\n",
       "      <td>23%</td>\n",
       "      <td>51%</td>\n",
       "      <td>35%</td>\n",
       "    </tr>\n",
       "    <tr>\n",
       "      <th>10</th>\n",
       "      <td>Suzuki Baleno + 2 Airbags</td>\n",
       "      <td>October-2021</td>\n",
       "      <td>20%</td>\n",
       "      <td>17%</td>\n",
       "      <td>64%</td>\n",
       "      <td>7%</td>\n",
       "    </tr>\n",
       "    <tr>\n",
       "      <th>11</th>\n",
       "      <td>Suzuki Swift + 2 Airbags</td>\n",
       "      <td>August-2021</td>\n",
       "      <td>16%</td>\n",
       "      <td>0%</td>\n",
       "      <td>66%</td>\n",
       "      <td>7%</td>\n",
       "    </tr>\n",
       "    <tr>\n",
       "      <th>12</th>\n",
       "      <td>Toyota Yaris + 2 Airbags</td>\n",
       "      <td>October-2021</td>\n",
       "      <td>41%</td>\n",
       "      <td>64%</td>\n",
       "      <td>62%</td>\n",
       "      <td>42%</td>\n",
       "    </tr>\n",
       "    <tr>\n",
       "      <th>13</th>\n",
       "      <td>Volkswagen Taos + 6 Airbags</td>\n",
       "      <td>December-2021</td>\n",
       "      <td>90%</td>\n",
       "      <td>90%</td>\n",
       "      <td>61%</td>\n",
       "      <td>85%</td>\n",
       "    </tr>\n",
       "  </tbody>\n",
       "</table>\n",
       "</div>"
      ],
      "text/plain": [
       "                                     Model                           Date  \\\n",
       "0           Fiat Argo / Cronos + 2 Airbags          December-2021           \n",
       "1                      Ford Ka + 2 Airbags          December-2020           \n",
       "2   Great Wall Motors Wingle 5 + 2 Airbags          December-2021           \n",
       "3                Hyundai Accent + 1 Airbag          December-2021           \n",
       "4               Hyundai Tucson + 2 Airbags          December-2021           \n",
       "5                 Hyundai HB20 + 2 Airbags          December-2020           \n",
       "6                 Kia Sportage + 2 Airbags          December-2021           \n",
       "7         Kia Picanto / Morning + 1 Airbag           October-2020           \n",
       "8                  Peugeot 208 + 4 Airbags          December-2021           \n",
       "9               Renault Duster + 2 Airbags            August-2021           \n",
       "10               Suzuki Baleno + 2 Airbags           October-2021           \n",
       "11                Suzuki Swift + 2 Airbags            August-2021           \n",
       "12                Toyota Yaris + 2 Airbags           October-2021           \n",
       "13             Volkswagen Taos + 6 Airbags          December-2021           \n",
       "\n",
       "   Adult Child Pedestrian Safety  \n",
       "0    24%   10%        37%     7%  \n",
       "1    34%    9%        50%     7%  \n",
       "2     9%    0%        19%     0%  \n",
       "3     9%   13%        53%     7%  \n",
       "4    51%    4%        50%     7%  \n",
       "5    19%   10%        43%    14%  \n",
       "6    48%   15%        58%     7%  \n",
       "7     0%   29%        51%     7%  \n",
       "8    52%   55%        54%    56%  \n",
       "9    29%   23%        51%    35%  \n",
       "10   20%   17%        64%     7%  \n",
       "11   16%    0%        66%     7%  \n",
       "12   41%   64%        62%    42%  \n",
       "13   90%   90%        61%    85%  "
      ]
     },
     "execution_count": 39,
     "metadata": {},
     "output_type": "execute_result"
    }
   ],
   "source": [
    "ncap_df = pd.DataFrame(ncap_dict)\n",
    "ncap_df"
   ]
  },
  {
   "cell_type": "code",
   "execution_count": 40,
   "id": "43d4abeb",
   "metadata": {},
   "outputs": [],
   "source": [
    "driver_class = \"colum colum-240 adulto\"\n",
    "adult_occupant = doc.find_all('div',{'class': driver_class})"
   ]
  },
  {
   "cell_type": "code",
   "execution_count": 41,
   "id": "44f195c2",
   "metadata": {},
   "outputs": [
    {
     "data": {
      "text/plain": [
       "134"
      ]
     },
     "execution_count": 41,
     "metadata": {},
     "output_type": "execute_result"
    }
   ],
   "source": [
    "len(adult_occupant)"
   ]
  },
  {
   "cell_type": "code",
   "execution_count": 42,
   "id": "1da93e8d",
   "metadata": {},
   "outputs": [
    {
     "data": {
      "text/plain": [
       "134"
      ]
     },
     "execution_count": 42,
     "metadata": {},
     "output_type": "execute_result"
    }
   ],
   "source": [
    "driversafety_titles = []\n",
    "\n",
    "for tag in adult_occupant:\n",
    "    driversafety_titles.append(tag.text)\n",
    "len(driversafety_titles)"
   ]
  },
  {
   "cell_type": "code",
   "execution_count": 43,
   "id": "c06f6210",
   "metadata": {},
   "outputs": [
    {
     "data": {
      "text/plain": [
       "'0.00 max. 34.00 '"
      ]
     },
     "execution_count": 43,
     "metadata": {},
     "output_type": "execute_result"
    }
   ],
   "source": [
    "char = '\\n'\n",
    "result1 = [ele.replace(char, '') for ele in driversafety_titles]\n",
    "result1[0]"
   ]
  },
  {
   "cell_type": "code",
   "execution_count": 44,
   "id": "48965047",
   "metadata": {},
   "outputs": [
    {
     "data": {
      "text/plain": [
       "'\\n\\n\\n\\n\\n\\n\\n12.65 max. 49.00 \\n'"
      ]
     },
     "execution_count": 44,
     "metadata": {},
     "output_type": "execute_result"
    }
   ],
   "source": [
    "back_class = \"colum colum-240 nino\"\n",
    "child_occupant = doc.find_all('div',{'class': back_class})\n",
    "child_occupant[0].text"
   ]
  },
  {
   "cell_type": "code",
   "execution_count": 45,
   "id": "252846db",
   "metadata": {},
   "outputs": [
    {
     "data": {
      "text/plain": [
       "134"
      ]
     },
     "execution_count": 45,
     "metadata": {},
     "output_type": "execute_result"
    }
   ],
   "source": [
    "backsafety_titles = []\n",
    "\n",
    "for tag in child_occupant:\n",
    "    backsafety_titles.append(tag.text)\n",
    "len(backsafety_titles)"
   ]
  },
  {
   "cell_type": "code",
   "execution_count": 46,
   "id": "263d6b3d",
   "metadata": {},
   "outputs": [
    {
     "data": {
      "text/plain": [
       "'12.65 max. 49.00 '"
      ]
     },
     "execution_count": 46,
     "metadata": {},
     "output_type": "execute_result"
    }
   ],
   "source": [
    "char = '\\n'\n",
    "result2 = [ele.replace(char, '') for ele in backsafety_titles]\n",
    "result2[0]"
   ]
  },
  {
   "cell_type": "code",
   "execution_count": 52,
   "id": "7ec75bd6",
   "metadata": {},
   "outputs": [],
   "source": [
    "ncap1_dict = {\n",
    "    'Model': model_titles[14:],\n",
    "    'Adult Occupant': result1,\n",
    "    'Child Occupant': result2,\n",
    "    }"
   ]
  },
  {
   "cell_type": "code",
   "execution_count": 53,
   "id": "3f42f35b",
   "metadata": {},
   "outputs": [
    {
     "data": {
      "text/html": [
       "<div>\n",
       "<style scoped>\n",
       "    .dataframe tbody tr th:only-of-type {\n",
       "        vertical-align: middle;\n",
       "    }\n",
       "\n",
       "    .dataframe tbody tr th {\n",
       "        vertical-align: top;\n",
       "    }\n",
       "\n",
       "    .dataframe thead th {\n",
       "        text-align: right;\n",
       "    }\n",
       "</style>\n",
       "<table border=\"1\" class=\"dataframe\">\n",
       "  <thead>\n",
       "    <tr style=\"text-align: right;\">\n",
       "      <th></th>\n",
       "      <th>Model</th>\n",
       "      <th>Adult Occupant</th>\n",
       "      <th>Child Occupant</th>\n",
       "    </tr>\n",
       "  </thead>\n",
       "  <tbody>\n",
       "    <tr>\n",
       "      <th>0</th>\n",
       "      <td>BYD F0 - NO Airbags</td>\n",
       "      <td>0.00 max. 34.00</td>\n",
       "      <td>12.65 max. 49.00</td>\n",
       "    </tr>\n",
       "    <tr>\n",
       "      <th>1</th>\n",
       "      <td>Chery Tiggo 3 + 2 Airbags</td>\n",
       "      <td>0.00 max. 34.00</td>\n",
       "      <td>10.21 max. 49.00</td>\n",
       "    </tr>\n",
       "    <tr>\n",
       "      <th>2</th>\n",
       "      <td>Chevrolet New Aveo + 2 Airbags (from May 2019)...</td>\n",
       "      <td>23.76 max. 34.00</td>\n",
       "      <td>37.02 max. 49.00</td>\n",
       "    </tr>\n",
       "    <tr>\n",
       "      <th>3</th>\n",
       "      <td>Chevrolet New Onix Hatchback + 6 Airbags</td>\n",
       "      <td>28.90 max. 34.00</td>\n",
       "      <td>44.33 max. 49.00</td>\n",
       "    </tr>\n",
       "    <tr>\n",
       "      <th>4</th>\n",
       "      <td>Chevrolet New Onix Plus + 6 Airbags</td>\n",
       "      <td>28.34 max. 34.00</td>\n",
       "      <td>42.33 max. 49.00</td>\n",
       "    </tr>\n",
       "    <tr>\n",
       "      <th>...</th>\n",
       "      <td>...</td>\n",
       "      <td>...</td>\n",
       "      <td>...</td>\n",
       "    </tr>\n",
       "    <tr>\n",
       "      <th>129</th>\n",
       "      <td>Volkswagen Jetta / Vento + 2 Airbags</td>\n",
       "      <td>15.34 max. 17.00</td>\n",
       "      <td>39.20 max. 49.00</td>\n",
       "    </tr>\n",
       "    <tr>\n",
       "      <th>130</th>\n",
       "      <td>Volkswagen ClÃ¡sico (Bora) + 2 Airbags</td>\n",
       "      <td>10.27 max. 16.00</td>\n",
       "      <td>35.82 max. 49.00</td>\n",
       "    </tr>\n",
       "    <tr>\n",
       "      <th>131</th>\n",
       "      <td>Volkswagen Polo + 2 Airbags</td>\n",
       "      <td>11.34 max. 16.00</td>\n",
       "      <td>36.95 max. 49.00</td>\n",
       "    </tr>\n",
       "    <tr>\n",
       "      <th>132</th>\n",
       "      <td>Volkswagen Gol Trend 1.6 + 2 Airbags</td>\n",
       "      <td>10.01 max. 16.00</td>\n",
       "      <td>21.16 max. 49.00</td>\n",
       "    </tr>\n",
       "    <tr>\n",
       "      <th>133</th>\n",
       "      <td>Volkswagen Gol Trend 1.6 - NO Airbags</td>\n",
       "      <td>5.75 max. 16.00</td>\n",
       "      <td>18.89 max. 49.00</td>\n",
       "    </tr>\n",
       "  </tbody>\n",
       "</table>\n",
       "<p>134 rows × 3 columns</p>\n",
       "</div>"
      ],
      "text/plain": [
       "                                                 Model     Adult Occupant  \\\n",
       "0                                  BYD F0 - NO Airbags   0.00 max. 34.00    \n",
       "1                            Chery Tiggo 3 + 2 Airbags   0.00 max. 34.00    \n",
       "2    Chevrolet New Aveo + 2 Airbags (from May 2019)...  23.76 max. 34.00    \n",
       "3             Chevrolet New Onix Hatchback + 6 Airbags  28.90 max. 34.00    \n",
       "4                  Chevrolet New Onix Plus + 6 Airbags  28.34 max. 34.00    \n",
       "..                                                 ...                ...   \n",
       "129               Volkswagen Jetta / Vento + 2 Airbags  15.34 max. 17.00    \n",
       "130             Volkswagen ClÃ¡sico (Bora) + 2 Airbags  10.27 max. 16.00    \n",
       "131                        Volkswagen Polo + 2 Airbags  11.34 max. 16.00    \n",
       "132               Volkswagen Gol Trend 1.6 + 2 Airbags  10.01 max. 16.00    \n",
       "133              Volkswagen Gol Trend 1.6 - NO Airbags   5.75 max. 16.00    \n",
       "\n",
       "        Child Occupant  \n",
       "0    12.65 max. 49.00   \n",
       "1    10.21 max. 49.00   \n",
       "2    37.02 max. 49.00   \n",
       "3    44.33 max. 49.00   \n",
       "4    42.33 max. 49.00   \n",
       "..                 ...  \n",
       "129  39.20 max. 49.00   \n",
       "130  35.82 max. 49.00   \n",
       "131  36.95 max. 49.00   \n",
       "132  21.16 max. 49.00   \n",
       "133  18.89 max. 49.00   \n",
       "\n",
       "[134 rows x 3 columns]"
      ]
     },
     "execution_count": 53,
     "metadata": {},
     "output_type": "execute_result"
    }
   ],
   "source": [
    "ncap1_df = pd.DataFrame(ncap1_dict)\n",
    "ncap1_df"
   ]
  },
  {
   "cell_type": "code",
   "execution_count": null,
   "id": "8c2afafe",
   "metadata": {},
   "outputs": [],
   "source": []
  },
  {
   "cell_type": "code",
   "execution_count": null,
   "id": "5c6c8104",
   "metadata": {},
   "outputs": [],
   "source": []
  },
  {
   "cell_type": "code",
   "execution_count": null,
   "id": "9e45cffc",
   "metadata": {},
   "outputs": [],
   "source": []
  },
  {
   "cell_type": "code",
   "execution_count": null,
   "id": "b5072d88",
   "metadata": {},
   "outputs": [],
   "source": []
  },
  {
   "cell_type": "code",
   "execution_count": null,
   "id": "10d4035c",
   "metadata": {},
   "outputs": [],
   "source": []
  },
  {
   "cell_type": "code",
   "execution_count": null,
   "id": "13b907ba",
   "metadata": {},
   "outputs": [],
   "source": []
  },
  {
   "cell_type": "code",
   "execution_count": null,
   "id": "444ec0ae",
   "metadata": {},
   "outputs": [],
   "source": []
  }
 ],
 "metadata": {
  "kernelspec": {
   "display_name": "Python 3 (ipykernel)",
   "language": "python",
   "name": "python3"
  },
  "language_info": {
   "codemirror_mode": {
    "name": "ipython",
    "version": 3
   },
   "file_extension": ".py",
   "mimetype": "text/x-python",
   "name": "python",
   "nbconvert_exporter": "python",
   "pygments_lexer": "ipython3",
   "version": "3.10.0"
  }
 },
 "nbformat": 4,
 "nbformat_minor": 5
}
